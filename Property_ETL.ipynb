{
 "cells": [
  {
   "cell_type": "code",
   "execution_count": 2,
   "id": "6d490ce1-6d44-4fee-9df3-b45ea5f02e17",
   "metadata": {},
   "outputs": [],
   "source": [
    "import pandas as pd\n",
    "import numpy as np\n",
    "import findspark\n",
    "from pyspark import SparkContext\n",
    "from pyspark.sql import SparkSession\n",
    "from pyspark.sql.types import *\n",
    "from pyspark.sql.types import DoubleType\n",
    "from pyspark.sql.functions import *\n",
    "from pyspark.sql.window import Window\n",
    "from pyspark.sql.functions import pandas_udf\n",
    "from pyspark.sql.functions import udf\n",
    "import io\n",
    "import re\n",
    "import distutils\n",
    "import pyarrow\n",
    "import us\n",
    "# import reverse_geocoder as rg\n",
    "# import country_converter as coco"
   ]
  },
  {
   "cell_type": "markdown",
   "id": "bcb870a1-01c0-4db8-837c-d782d4ee181f",
   "metadata": {},
   "source": [
    "## Constants"
   ]
  },
  {
   "cell_type": "code",
   "execution_count": 3,
   "id": "2330041e-a262-4e98-bded-862ff9a7b471",
   "metadata": {},
   "outputs": [],
   "source": [
    "FLOAT_DIGIT_LIMIT=7\n",
    "DOUBLE_DIGIT_LIMIT=15\n",
    "RATIO_SAMPLE = 1.0\n",
    "ZILLOW_PATH = 'zillow/json_zillow'\n",
    "REALTOR_PATH = 'realtor/json_realtor'\n",
    "ATTOM_SCHEMA_PATH = 'schema_template.xlsx'\n",
    "OUTPUT_PATH = 'result_table.xlsx'\n",
    "ZIP_FIPS_PATH = 'ZIP_COUNTY_122023.xlsx'\n",
    "HAVERSINE_PRECISION = 3 ### indicates that properties with distance within about 80 meters will be considered as the same property\n",
    "# REVERSE_GEOCODER_PATH = 'rg_cities1000.csv'\n",
    "# geo = rg.RGeocoder(mode=2, verbose=True, stream=io.StringIO(open(REVERSE_GEOCODER_PATH, encoding='utf-8').read()))"
   ]
  },
  {
   "cell_type": "markdown",
   "id": "21a5c58f-fc77-4d75-9966-5ff7e9bc5966",
   "metadata": {},
   "source": [
    "## Spark Initilize"
   ]
  },
  {
   "cell_type": "code",
   "execution_count": 4,
   "id": "00a730d1-4d86-43a8-83de-f639951c5b0c",
   "metadata": {},
   "outputs": [],
   "source": [
    "findspark.init()\n",
    "\n",
    "sc = SparkContext()\n",
    "spark = SparkSession\\\n",
    "        .builder\\\n",
    "        .appName(\"property_etl\")\\\n",
    "        .getOrCreate()"
   ]
  },
  {
   "cell_type": "markdown",
   "id": "dc42f7b5-081a-4fc1-9c1e-46b490f33563",
   "metadata": {},
   "source": [
    "## Zillow Loading"
   ]
  },
  {
   "cell_type": "code",
   "execution_count": 5,
   "id": "9f3b45a7-7c34-4b3f-b912-b035c344a22b",
   "metadata": {},
   "outputs": [],
   "source": [
    "zillow_read_schema = StructType(\n",
    "    [\n",
    "        ## address cols\n",
    "        StructField(\n",
    "            \"address\",\n",
    "            StructType(\n",
    "                [\n",
    "                    StructField(\"city\", StringType(), True),\n",
    "                    StructField(\"state\", StringType(), True),\n",
    "                    StructField(\"streetAddress\", StringType(), True),\n",
    "                    StructField(\"zipcode\", StringType(), True),\n",
    "                ]\n",
    "            ),\n",
    "            True,\n",
    "        ),\n",
    "        StructField(\"countyFIPS\", StringType(), True),\n",
    "        StructField(\"latitude\", DoubleType(), True),\n",
    "        StructField(\"longitude\", DoubleType(), True),\n",
    "        ## tax history cols\n",
    "        StructField(\n",
    "            \"taxHistory\",\n",
    "            ArrayType(\n",
    "                StructType(\n",
    "                    [\n",
    "                        StructField(\"time\", LongType(), True),\n",
    "                        StructField(\n",
    "                            \"taxPaid\", IntegerType(), True\n",
    "                        ),  # Assuming taxPaid is an integer, use the appropriate type if different\n",
    "                        StructField(\"value\", LongType(), True),\n",
    "                    ]\n",
    "                )\n",
    "            ),\n",
    "            True,\n",
    "        ),\n",
    "        ## description cols\n",
    "        StructField(\"homeType\", StringType(), True),\n",
    "        StructField(\"homeStatus\", StringType(), True),\n",
    "        StructField(\"description\", StringType(), True),\n",
    "        StructField(\"datePosted\", DateType(), True),\n",
    "        StructField(\"yearBuilt\", LongType(), True),\n",
    "        StructField(\"price\", LongType(), True),\n",
    "        StructField(\"livingAreaValue\", StringType(), True),\n",
    "        StructField(\"livingAreaUnits\", StringType(), True),\n",
    "        ## Utility cols\n",
    "        StructField(\"bathrooms\", IntegerType(), True),\n",
    "        StructField(\"bedrooms\", IntegerType(), True),\n",
    "        ## ResoFacts\n",
    "        StructField(\n",
    "            \"resoFacts\",\n",
    "            StructType(\n",
    "                [\n",
    "                    StructField(\"yearBuilt\", LongType(), True),\n",
    "                    StructField(\"lotSize\", StringType(), True),\n",
    "                    StructField(\"hasAttachedGarage\", BooleanType(), True),\n",
    "                    StructField(\"hasCooling\", BooleanType(), True),\n",
    "                    StructField(\"hasHeating\", BooleanType(), True),\n",
    "                    StructField(\"hasPrivatePool\", BooleanType(), True)\n",
    "                ]\n",
    "            ),\n",
    "            True,\n",
    "        ),\n",
    "    ]\n",
    ")\n"
   ]
  },
  {
   "cell_type": "code",
   "execution_count": 6,
   "id": "46063dcd-cc0c-4377-bf61-4b6ad353ef01",
   "metadata": {},
   "outputs": [],
   "source": [
    "df_z_raw = spark.read \\\n",
    "                .option(\"mergeSchema\", \"true\") \\\n",
    "                .option(\"multiLine\", True) \\\n",
    "                .json(ZILLOW_PATH, schema=zillow_read_schema)"
   ]
  },
  {
   "cell_type": "code",
   "execution_count": 7,
   "id": "4df8f3bd-04ea-4b0c-ba38-a5a49bd28831",
   "metadata": {},
   "outputs": [],
   "source": [
    "df_z_filtered = df_z_raw.select(## address cols\n",
    "                                col('address').state.alias('state'), \\\n",
    "                                col('countyFIPS').alias('countyFIPS'), \\\n",
    "                                col('address').city.alias('city'), \\\n",
    "                                col('address').streetAddress.alias('streetAddress'), \\\n",
    "                                col('address').zipcode.alias('zipcode'), \\\n",
    "                                col('latitude').alias('latitude'), \\\n",
    "                                col('longitude').alias('longitude'), \\\n",
    "                                ## tax history cols\n",
    "                                col('taxHistory').alias('taxHistory'), \\\n",
    "                                ## description\n",
    "                                col('homeType').alias('homeType'), \\\n",
    "                                col('homeStatus').alias('homeStatus'), \\\n",
    "                                col('description').alias('textDescription'), \n",
    "                                col('datePosted').alias('datePosted'), \\\n",
    "                                ifnull(col('yearBuilt'), col('resoFacts').yearBuilt).alias('yearBuilt'), \\\n",
    "                                when(col('price') != lit(0), col('price')).otherwise(lit(None)).alias('price'), \\\n",
    "                                concat(col('livingAreaValue'), lit(' '), col('livingAreaUnits')).alias('livingArea'), \\\n",
    "                                regexp_replace(col('resoFacts').lotSize, lit(','), lit('')).alias('lotSize'), \\\n",
    "                                ## utility features\n",
    "                                col('bathrooms').alias('bathrooms'), \\\n",
    "                                col('bedrooms').alias('bedrooms'), \\\n",
    "                                coalesce(col('resoFacts').hasAttachedGarage, lit(False)).alias('hasGarage'), \\\n",
    "                                coalesce(col('resoFacts').hasCooling, lit(False)).alias('hasCooling'), \\\n",
    "                                coalesce(col('resoFacts').hasHeating, lit(False)).alias('hasHeating'), \\\n",
    "                                coalesce(col('resoFacts').hasPrivatePool, lit(False)).alias('hasPrivatePool'), \\\n",
    "                                )\n",
    "df_z_filtered = df_z_filtered.select(sorted(df_z_filtered.columns))"
   ]
  },
  {
   "cell_type": "markdown",
   "id": "9a2a2f7a-d76f-4bd2-941e-bd763b976bb5",
   "metadata": {},
   "source": [
    "## Realtor Loading"
   ]
  },
  {
   "cell_type": "code",
   "execution_count": 8,
   "id": "da06feee-43c1-4688-9687-d6de15947e63",
   "metadata": {},
   "outputs": [],
   "source": [
    "realtor_read_schema = StructType([\n",
    "        StructField('data', StructType([\n",
    "            ## address cols\n",
    "            StructField(\"location\", StructType([\n",
    "                StructField(\"address\", StructType([\n",
    "                    StructField(\"state_code\", StringType(), True),\n",
    "                    StructField(\"city\", StringType(), True),\n",
    "                    StructField(\"postal_code\", StringType(), True),\n",
    "                    StructField(\"coordinate\", StructType([\n",
    "                        StructField(\"lon\", DoubleType(), True),\n",
    "                        StructField(\"lat\", DoubleType(), True)\n",
    "                    ]), True),\n",
    "                    StructField(\"line\", StringType(), True),\n",
    "                ]),True),\n",
    "                StructField(\"county\", StructType([\n",
    "                    StructField(\"fips_code\", StringType(), True)\n",
    "                ]), True)\n",
    "            ]), True),\n",
    "            ## tax history cols\n",
    "            StructField(\"tax_history\", ArrayType(StructType([\n",
    "                StructField(\"assessment\", StructType([\n",
    "                    StructField(\"total\", StringType(), True)\n",
    "                ]), True),\n",
    "                StructField(\"tax\", StringType(), True),\n",
    "                StructField(\"year\", IntegerType(), True)\n",
    "            ])), True),\n",
    "            ## description cols\n",
    "            StructField(\"create_date\", DateType(), True),\n",
    "            StructField(\"status\", StringType(), True),\n",
    "            StructField(\"list_price\", LongType(), True),\n",
    "            StructField(\"description\", StructType([\n",
    "                StructField(\"cooling\", BooleanType(), True),\n",
    "                StructField(\"sqft\", StringType(), True),\n",
    "                StructField(\"beds\", LongType(), True),\n",
    "                StructField(\"heating\", BooleanType(), True),\n",
    "                StructField(\"lot_sqft\", StringType(), True),\n",
    "                StructField(\"units\", IntegerType(), True),\n",
    "                StructField(\"garage\", BooleanType(), True),\n",
    "                StructField(\"pool\", BooleanType(), True),\n",
    "                StructField(\"text\", StringType(), True),\n",
    "                StructField(\"year_built\", LongType(), True),\n",
    "                StructField(\"baths\", LongType(), True),\n",
    "                StructField(\"type\", StringType(), True)\n",
    "            ]), True),\n",
    "            ## units\n",
    "            StructField(\"units\", ArrayType(StructType([\n",
    "                StructField(\"photos\", ArrayType(StructType([\n",
    "                    StructField(\"type\", StringType(), True),\n",
    "                    StructField(\"href\", StringType(), True)\n",
    "                ])), True),\n",
    "                StructField(\"list_price\", IntegerType(), True),\n",
    "                StructField(\"plan_id\", StringType(), True),\n",
    "                StructField(\"availability\", StructType([\n",
    "                    StructField(\"date\", StringType(), True),\n",
    "                    StructField(\"available\", StringType(), True)\n",
    "                ]), True),\n",
    "                StructField(\"description\", StructType([\n",
    "                    StructField(\"beds_min\", StringType(), True),\n",
    "                    StructField(\"baths_min\", StringType(), True),\n",
    "                    StructField(\"name\", StringType(), True),\n",
    "                    StructField(\"baths_half\", IntegerType(), True),\n",
    "                    StructField(\"baths_full_calc\", StringType(), True),\n",
    "                    StructField(\"baths\", IntegerType(), True),\n",
    "                    StructField(\"sqft\", IntegerType(), True),\n",
    "                    StructField(\"baths_max\", StringType(), True),\n",
    "                    StructField(\"beds_max\", StringType(), True),\n",
    "                    StructField(\"beds\", IntegerType(), True),\n",
    "                    StructField(\"baths_partial_calc\", IntegerType(), True)\n",
    "                ]), True)\n",
    "            ])), True),\n",
    "        ]), True)\n",
    "])"
   ]
  },
  {
   "cell_type": "code",
   "execution_count": 9,
   "id": "8d5df8ba-6d54-4e28-9337-4cf651bc3c36",
   "metadata": {},
   "outputs": [],
   "source": [
    "df_r_raw = spark.read \\\n",
    "                .option(\"mergeSchema\", \"true\") \\\n",
    "                .option(\"multiLine\", True) \\\n",
    "                .json(REALTOR_PATH, schema=realtor_read_schema)"
   ]
  },
  {
   "cell_type": "code",
   "execution_count": 10,
   "id": "c7637e70-58a5-4a47-8653-04c59ed2cb24",
   "metadata": {},
   "outputs": [],
   "source": [
    "df_r_single = df_r_raw.where(col('data').units.isNull()) \\\n",
    "                .select(\n",
    "                        ## address cols\n",
    "                        col('data').location.address.state_code.alias('state'), \\\n",
    "                        col('data').location.county.fips_code.alias('countyFIPS'), \\\n",
    "                        col('data').location.address.city.alias('city'), \\\n",
    "                        col('data').location.address.line.alias('streetAddress'), \\\n",
    "                        col('data').location.address.postal_code.alias('zipcode'), \\\n",
    "                        col('data').location.address.coordinate.lat.alias('latitude'), \\\n",
    "                        col('data').location.address.coordinate.lon.alias('longitude'), \\\n",
    "                        ## tax cols\n",
    "                        col('data').tax_history.alias('taxHistory'), \\\n",
    "                        ## description\n",
    "                        col('data').description.type.alias('homeType'), \\\n",
    "                        col('data').status.alias('homeStatus'), \\\n",
    "                        col('data').description.text.alias('textDescription'), \\\n",
    "                        col('data').create_date.alias('datePosted'), \\\n",
    "                        col('data').description.year_built.alias('yearBuilt'), \\\n",
    "                        when(col('data').list_price != lit(0), col('data').list_price).otherwise(lit(None)).alias('price'), \\\n",
    "                        concat(col('data').description.sqft, lit(' sqft')).alias('livingArea'), \\\n",
    "                        concat(col('data').description.lot_sqft, lit(' sqft')).alias('lotSize'), \\\n",
    "                        ## utility\n",
    "                        col('data').description.baths.alias('bathrooms'), \\\n",
    "                        col('data').description.beds.alias('bedrooms'), \\\n",
    "                        coalesce(col('data').description.garage, lit(False)).alias('hasGarage'), \\\n",
    "                        coalesce(col('data').description.cooling, lit(False)).alias('hasCooling'), \\\n",
    "                        coalesce(col('data').description.heating, lit(False)).alias('hasHeating'), \\\n",
    "                        coalesce(col('data').description.pool, lit(False)).alias('hasPrivatePool'), \\\n",
    "                       )\n",
    "df_r_single = df_r_single.select(sorted(df_r_single.columns))"
   ]
  },
  {
   "cell_type": "code",
   "execution_count": 11,
   "id": "8c9b38d3-c0a8-47de-8b15-8d932e736079",
   "metadata": {},
   "outputs": [],
   "source": [
    "df_r_agg = df_r_raw.where(col('data').units.isNotNull()) \\\n",
    "                .select(\n",
    "                        row_number().over(Window.orderBy(lit(0))).alias('tempID'), \\\n",
    "                        ## address cols\n",
    "                        col('data').location.address.state_code.alias('state'), \\\n",
    "                        col('data').location.county.fips_code.alias('countyFIPS'), \\\n",
    "                        col('data').location.address.city.alias('city'), \\\n",
    "                        col('data').location.address.line.alias('streetAddress'), \\\n",
    "                        col('data').location.address.postal_code.alias('zipcode'), \\\n",
    "                        col('data').location.address.coordinate.lat.alias('latitude'), \\\n",
    "                        col('data').location.address.coordinate.lon.alias('longitude'), \\\n",
    "                        ## tax cols\n",
    "                        col('data').tax_history.alias('taxHistory'), \\\n",
    "                        ## description\n",
    "                        col('data').description.type.alias('homeType'), \\\n",
    "                        col('data').status.alias('homeStatus'), \\\n",
    "                        col('data').description.text.alias('textDescription'), \\\n",
    "                        col('data').create_date.alias('datePosted'), \\\n",
    "                        col('data').description.year_built.alias('yearBuilt'), \\\n",
    "                        # when(col('data').list_price != lit(0), col('data').list_price).otherwise(lit(None)).alias('price'), \\\n",
    "                        # concat(col('data').description.sqft, lit(' sqft')).alias('livingArea'), \\\n",
    "                        concat(col('data.description.lot_sqft'), lit(' sqft')).alias('lotSize'), \\\n",
    "                        ## utility\n",
    "                        # col('data').description.baths.alias('bathrooms'), \\\n",
    "                        # col('data').description.beds.alias('bedrooms'), \\\n",
    "                        coalesce(col('data').description.garage, lit(False)).alias('hasGarage'), \\\n",
    "                        coalesce(col('data').description.cooling, lit(False)).alias('hasCooling'), \\\n",
    "                        coalesce(col('data').description.heating, lit(False)).alias('hasHeating'), \\\n",
    "                        coalesce(col('data').description.pool, lit(False)).alias('hasPrivatePool'), \\\n",
    "                        ## units\n",
    "                        col('data').units.alias('units') \\\n",
    "                       )\n",
    "\n",
    "df_r_group = df_r_agg.withColumn('unitRecord', explode('units')) \\\n",
    "                    .drop('units')\n",
    "df_r_group = df_r_group.select('tempId', 'unitRecord') \\\n",
    "            .groupBy('tempId') \\\n",
    "            .agg(\n",
    "                sum(coalesce(col('unitRecord').description.beds, lit(0))).alias('bedrooms'),\n",
    "                sum(coalesce(col('unitRecord').description.baths, lit(0))).alias('bathrooms'),\n",
    "                sum(coalesce(col('unitRecord').list_price, lit(0))).alias('price'),\n",
    "                concat(sum(coalesce(col('unitRecord').description.sqft, lit(0))), lit(' sqft')).alias('livingArea')\n",
    "                )\n",
    "df_r_agg = df_r_agg.join(df_r_group, on='tempID', how='left').drop('tempID', 'units')\n",
    "df_r_agg = df_r_agg.select(sorted(df_r_agg.columns))"
   ]
  },
  {
   "cell_type": "code",
   "execution_count": 12,
   "id": "31e7da44-5b65-4f76-8eca-31861bf8fe76",
   "metadata": {},
   "outputs": [],
   "source": [
    "df_r_filtered = df_r_single.union(df_r_agg)\n",
    "df_r_filtered = df_r_filtered.withColumn('bedrooms', col('bedrooms').cast(IntegerType())) \\\n",
    "                        .withColumn('bathrooms', col('bathrooms').cast(IntegerType()))\n",
    "df_r_filtered = df_r_filtered.select(sorted(df_r_agg.columns))"
   ]
  },
  {
   "cell_type": "markdown",
   "id": "e0ffaa20-faab-496b-951f-1bdbcc257468",
   "metadata": {},
   "source": [
    "## Combine and Deduplicate"
   ]
  },
  {
   "cell_type": "code",
   "execution_count": 13,
   "id": "7b603698-7426-4c83-a448-d00a3b57c279",
   "metadata": {},
   "outputs": [],
   "source": [
    "r_cols = df_r_filtered.columns\n",
    "z_cols = df_z_filtered.columns\n",
    "\n",
    "df_r_join = df_r_filtered.withColumn('latitude_approx', round(col('latitude'), HAVERSINE_PRECISION)) \\\n",
    "                        .withColumn('longitude_approx', round(col('longitude'), HAVERSINE_PRECISION))\n",
    "df_z_join = df_z_filtered.withColumn('latitude_approx', round(col('latitude'), HAVERSINE_PRECISION)) \\\n",
    "                        .withColumn('longitude_approx', round(col('longitude'), HAVERSINE_PRECISION))\n",
    "\n",
    "for element in list(z_cols):\n",
    "    df_z_join = df_z_join.withColumnRenamed(element, element + '_2')"
   ]
  },
  {
   "cell_type": "code",
   "execution_count": 16,
   "id": "c0f61a84-7ed3-4b8c-a386-0dbea2a8e129",
   "metadata": {},
   "outputs": [],
   "source": [
    "zip_fips_df = pd.read_excel(ZIP_FIPS_PATH, dtype={'ZIP': str, 'COUNTY': str})\n",
    "zip_to_fips = dict(zip(zip_fips_df['ZIP'], zip_fips_df['COUNTY']))\n",
    "\n",
    "# Function to get the FIPS code for a given ZIP code\n",
    "@pandas_udf(StringType())\n",
    "def get_fips_code(zip_codes: pd.Series) -> pd.Series:\n",
    "    return zip_codes.map(zip_to_fips).astype(str)\n"
   ]
  },
  {
   "cell_type": "code",
   "execution_count": 17,
   "id": "3d74cb8e-920b-478f-a778-06efbadbb9f6",
   "metadata": {},
   "outputs": [],
   "source": [
    "df_combined = df_r_join.join(df_z_join, \\\n",
    "                                  how='outer', \\\n",
    "                                  on=['latitude_approx', 'longitude_approx'])\n",
    "df_combined = df_combined.withColumn(\"taxHistory_2\", transform(\n",
    "    col(\"taxHistory_2\"),\n",
    "    lambda x: struct(\n",
    "        struct(x[\"value\"].cast(\"string\").alias(\"total\")).alias(\"assessment\"),\n",
    "        x[\"taxPaid\"].cast(\"string\").alias(\"tax\"),\n",
    "        year(from_unixtime(x[\"time\"] / 1000)).cast(\"integer\").alias(\"year\")\n",
    "    )\n",
    "))\n",
    "df_combined = df_combined.select(\n",
    "                                coalesce('bathrooms', 'bathrooms_2', lit(0)).alias('bathrooms'),\n",
    "                                coalesce('bedrooms', 'bedrooms_2', lit(0)).alias('bedrooms'),\n",
    "                                coalesce('city', 'city_2', lit(None)).alias('city'),\n",
    "                                coalesce('countyFIPS', 'countyFIPS_2', lit(None)).alias('countyFIPS'),\n",
    "                                coalesce('hasCooling', 'hasCooling_2', lit(False)).alias('hasCooling'),\n",
    "                                coalesce('hasGarage', 'hasGarage_2', lit(False)).alias('hasGarage'),\n",
    "                                coalesce('hasHeating', 'hasHeating_2', lit(False)).alias('hasHeating'),\n",
    "                                coalesce('hasPrivatePool', 'hasPrivatePool_2', lit(False)).alias('hasPrivatePool'),\n",
    "                                coalesce('homeStatus', 'homeStatus_2', lit('other')).alias('homeStatus'),\n",
    "                                coalesce('homeType', 'homeType_2', lit('other')).alias('homeType'),\n",
    "                                coalesce('latitude', 'latitude_2', lit(None)).alias('latitude'),                             \n",
    "                                coalesce('livingArea', 'livingArea_2', lit(None)).alias('livingArea'),   \n",
    "                                coalesce('longitude', 'longitude_2', lit(None)).alias('longitude'),\n",
    "                                coalesce('lotSize', 'lotSize_2', lit(None)).alias('lotSize'),\n",
    "                                coalesce('price', 'price_2', lit(None)).alias('price'),\n",
    "                                coalesce('state', 'state_2', lit(None)).alias('state'),\n",
    "                                coalesce('streetAddress', 'streetAddress_2', lit(None)).alias('streetAddress'),\n",
    "                                coalesce('textDescription', 'textDescription_2', lit(None)).alias('textDescription'),\n",
    "                                coalesce('yearBuilt', 'yearBuilt_2', lit(None)).alias('yearBuilt'),\n",
    "                                coalesce('zipcode', 'zipcode_2', lit(None)).alias('zipcode'),\n",
    "                                when(col('taxHistory').isNotNull(), col('taxHistory')).otherwise(col('taxHistory_2')).alias('taxHistory')\n",
    "                                ) \\\n",
    "                        .withColumn('homeStatus', lower(col('homeStatus'))) \\\n",
    "                        .withColumn('homeType', lower(col('homeType'))) \\\n",
    "                        .withColumn('homeStatus', when(\n",
    "                            (col('homeStatus') == lit('for_rent')) |\n",
    "                            (col('homeStatus') == lit('for_sale')) |\n",
    "                            (col('homeStatus') == lit('sold')),\n",
    "                            col('homeStatus')\n",
    "                        ).otherwise(lit('other'))) \\\n",
    "                        .withColumn('homeType', when(\n",
    "                            (col('homeType') == lit('apartment')) |\n",
    "                            (col('homeType') == lit('multi_family')) |\n",
    "                            (col('homeType') == lit('single_family')) |\n",
    "                            (col('homeType') == lit('house')) |\n",
    "                            (col('homeType') == lit('farm')) |\n",
    "                            (col('homeType') == lit('mobile')) |\n",
    "                            (col('homeType') == lit('land')) |\n",
    "                            (col('homeType') == lit('duplex_triplex')) |\n",
    "                            (col('homeType') == lit('condo')) |\n",
    "                            (col('homeType') == lit('lots/land')) |\n",
    "                            (col('homeType') == lit('manufactured')),\n",
    "                            col('homeType')\n",
    "                        ).otherwise(lit('other'))) \\\n",
    "                        .withColumn('propertyId', row_number().over(Window.orderBy(lit(0)))) \\\n",
    "                        .withColumn('countyFIPS', when(col('countyFIPS').isNotNull(), col('countyFIPS')).otherwise(get_fips_code(col('zipcode'))))"
   ]
  },
  {
   "cell_type": "markdown",
   "id": "58bcac3a-2eed-489c-af9f-68f80e1352e1",
   "metadata": {},
   "source": [
    "## Create Fact & Subdimensional & Main Dimensional Tables"
   ]
  },
  {
   "cell_type": "code",
   "execution_count": 18,
   "id": "b7fca2be-cc99-4e4d-b1f4-6400d9752d42",
   "metadata": {},
   "outputs": [],
   "source": [
    "address_cols = ['state', 'countyFIPS', 'city', 'streetAddress', 'zipcode', 'latitude', 'longitude']\n",
    "description_cols = ['homeType', 'homeStatus', 'textDescription', 'yearBuilt', 'price', 'livingArea', 'lotSize']\n",
    "utility_cols = ['bathrooms', 'bedrooms', 'hasGarage', 'hasCooling', 'hasHeating', 'hasPrivatePool']"
   ]
  },
  {
   "cell_type": "code",
   "execution_count": 19,
   "id": "ec0e8a4e-e67b-40b9-ba77-ba72961252bd",
   "metadata": {},
   "outputs": [],
   "source": [
    "### Sub dimension address\n",
    "df_address = df_combined.select(address_cols).distinct() \\\n",
    "                            .withColumn('addressId', row_number().over(Window.orderBy(lit(0)))) \\\n",
    "\n",
    "### Sub dimension description            \n",
    "df_description = df_combined.select(description_cols).distinct() \\\n",
    "                            .withColumn('descriptionId', row_number().over(Window.orderBy(lit(0)))) \\\n",
    "\n",
    "### Sub dimension utility\n",
    "df_utility = df_combined.select(utility_cols).distinct() \\\n",
    "                            .withColumn('utilityId',row_number().over(Window.orderBy(lit(0)))) "
   ]
  },
  {
   "cell_type": "code",
   "execution_count": 20,
   "id": "0f999dff-ddb5-4f84-93dc-1bc4105e1dda",
   "metadata": {},
   "outputs": [],
   "source": [
    "### combined condition of eqNullSafe for setting the main dimensional table\n",
    "combined_cond_address = lit(True)\n",
    "for element in address_cols:\n",
    "    combined_cond_address &= (df_combined[element].eqNullSafe(df_address[element]))\n",
    "\n",
    "combined_cond_description = lit(True)\n",
    "for element in description_cols:\n",
    "    combined_cond_description &= (df_combined[element].eqNullSafe(df_description[element]))\n",
    "\n",
    "combined_cond_utility = lit(True)\n",
    "for element in utility_cols:\n",
    "    combined_cond_utility &= (df_combined[element].eqNullSafe(df_utility[element]))"
   ]
  },
  {
   "cell_type": "code",
   "execution_count": 21,
   "id": "1cfe627e-50e9-437a-ab86-3b92d5fc9004",
   "metadata": {},
   "outputs": [],
   "source": [
    "df_main = df_combined.join(df_address, on=combined_cond_address, how='left') \\\n",
    "                    .join(df_description, on=combined_cond_description, how='left') \\\n",
    "                    .join(df_utility, on=combined_cond_utility, how='left') \\\n",
    "                    .select('propertyID', 'addressId', 'descriptionID', 'utilityID')"
   ]
  },
  {
   "cell_type": "code",
   "execution_count": 22,
   "id": "3943912b-9e6d-4620-ae15-dd9e68b21cbb",
   "metadata": {},
   "outputs": [],
   "source": [
    "df_tax_exploded = df_combined.select('propertyId', 'taxHistory') \\\n",
    "                                .withColumn('taxRecords', explode(col('taxHistory'))) \\\n",
    "                                .drop('taxHistory')\n",
    "df_taxHistory = df_tax_exploded.select(col('propertyId'),\n",
    "                                           col('taxRecords').year.alias('taxYear'),\n",
    "                                           col('taxRecords').tax.cast(LongType()).alias('taxPaid'),\n",
    "                                           col('taxRecords').assessment.total.cast(LongType()).alias('value')\n",
    "                                          ).distinct() \\\n",
    "                                    .withColumn('taxPaid', coalesce('taxPaid', lit(0))) \\\n",
    "                                    .orderBy(asc('propertyID'), desc('taxYear')) \\\n",
    "                                    .withColumn('taxHistoryId', row_number().over(Window.orderBy(lit(0))))"
   ]
  },
  {
   "cell_type": "code",
   "execution_count": 23,
   "id": "9f58c4d8-7404-4302-9a2f-2cf73ce62ce7",
   "metadata": {},
   "outputs": [
    {
     "name": "stdout",
     "output_type": "stream",
     "text": [
      "+----------+---------+-------------+---------+\n",
      "|propertyID|addressId|descriptionID|utilityID|\n",
      "+----------+---------+-------------+---------+\n",
      "|         1|        4|            5|        1|\n",
      "|         2|       13|           13|        5|\n",
      "|         3|        2|           10|        9|\n",
      "|         4|       12|           14|        8|\n",
      "|         5|        1|           16|        7|\n",
      "|         6|        8|            3|       10|\n",
      "|         7|        9|            6|        3|\n",
      "|         8|       11|            7|       13|\n",
      "|         9|       15|            9|        2|\n",
      "|        10|       14|           11|       11|\n",
      "|        11|       17|            8|       10|\n",
      "|        12|        7|            1|        4|\n",
      "|        13|        3|            2|       15|\n",
      "|        14|        6|           17|       12|\n",
      "|        15|       10|            4|       14|\n",
      "|        16|        5|           15|        6|\n",
      "|        17|       16|           12|        2|\n",
      "+----------+---------+-------------+---------+\n",
      "\n"
     ]
    }
   ],
   "source": [
    "df_main.show()"
   ]
  },
  {
   "cell_type": "code",
   "execution_count": 24,
   "id": "5b4a17fb-d9d5-42de-bd5f-e19a54a789b9",
   "metadata": {},
   "outputs": [
    {
     "name": "stdout",
     "output_type": "stream",
     "text": [
      "+-----+----------+------+--------------------+-------+---------+----------+---------+\n",
      "|state|countyFIPS|  city|       streetAddress|zipcode| latitude| longitude|addressId|\n",
      "+-----+----------+------+--------------------+-------+---------+----------+---------+\n",
      "|   TX|     48453|Austin|8715 W Highway 71...|  78735|30.250511| -97.89649|        1|\n",
      "|   TX|     48453|Austin|6508 Steep Cactus...|  78735|30.244486| -97.87705|        2|\n",
      "|   TX|     48453|Austin|2601 Scofield Rid...|  78727| 30.42851|-97.697044|        3|\n",
      "|   TX|     48453|Austin|   7603 Woodstone Cv|  78749|30.206296|-97.835752|        4|\n",
      "|   TX|     48491|Austin| 10800 Lakeline Blvd|  78717|30.482453| -97.79353|        5|\n",
      "|   TX|     48453|Austin|2601 Scofield Rid...|  78727|30.430732|-97.697007|        6|\n",
      "|   TX|     48453|Austin|9906 Hundred Oaks...|  78750|30.421557|-97.800574|        7|\n",
      "|   TX|     48453|Austin|403 E 32nd St Unit B|  78705|30.294802| -97.73362|        8|\n",
      "|   TX|     48453|Austin|  6505 Cat Creek Trl|  78731|30.360643|-97.779975|        9|\n",
      "|   TX|     48491|Austin|8100 Anderson Mil...|  78729| 30.46188|-97.757279|       10|\n",
      "|   TX|     48453|Austin|     12201 Dessau Rd|  78754|30.384135|-97.647495|       11|\n",
      "|   TX|     48453|Austin|8715 W Highway 71...|  78735|  30.2485| -97.89815|       12|\n",
      "|   TX|     48453|Austin|6508 Steep Cactus...|  78735|30.241316|-97.877136|       13|\n",
      "|   TX|     48453|Austin|  12205 N Lamar Blvd|  78753|30.398592|-97.678024|       14|\n",
      "|   TX|     48453|Austin|  12205 N Lamar Blvd|  78753|30.398603| -97.67909|       15|\n",
      "|   TX|     48491|Austin|10800 Lakeline Bl...|  78717|30.481613|-97.793365|       16|\n",
      "|   TX|     48453|Austin|12312 Dellrey Dr ...|  78758|30.411872|-97.699229|       17|\n",
      "+-----+----------+------+--------------------+-------+---------+----------+---------+\n",
      "\n"
     ]
    }
   ],
   "source": [
    "df_address.show()"
   ]
  },
  {
   "cell_type": "code",
   "execution_count": 25,
   "id": "7f3771d7-03d6-45bf-981c-893e0209371d",
   "metadata": {},
   "outputs": [
    {
     "name": "stdout",
     "output_type": "stream",
     "text": [
      "+--------------+----------+--------------------+---------+---------+-----------+-----------+-------------+\n",
      "|      homeType|homeStatus|     textDescription|yearBuilt|    price| livingArea|    lotSize|descriptionId|\n",
      "+--------------+----------+--------------------+---------+---------+-----------+-----------+-------------+\n",
      "|duplex_triplex|  for_rent|Rare find of a 3 ...|     1983|     1725|  1914 sqft| 25700 sqft|            1|\n",
      "|     apartment|     other|Great location: c...|     1999|117594538|   711 sqft|26.37 Acres|            2|\n",
      "| single_family|  for_rent|Available NOW! LE...|     1934|     1600|   630 sqft|  7492 sqft|            3|\n",
      "|     apartment|  for_rent|Better-than-new a...|     2015|     7925|  4344 sqft|16.96 Acres|            4|\n",
      "|  multi_family|      sold|This is a 2070 sq...|     1983|   542231|  2070 sqft|  9091 sqft|            5|\n",
      "|duplex_triplex|  for_rent|West side duplex ...|     1983|     1995|  1178 sqft| 17454 sqft|            6|\n",
      "|     apartment|  for_rent|Welcome to The Lu...|     2021|    10933|  6543 sqft|17.58 Acres|            7|\n",
      "|duplex_triplex|  for_rent|This is a 1632 sq...|     1984|     1500|   816 sqft|  6630 sqft|            8|\n",
      "|     apartment|     other|This is a 287272 ...|     2021| 88483962|287272 sqft|17.68 Acres|            9|\n",
      "|         other|     other|This 1481 square ...|     NULL|   417900|  1481 sqft|       NULL|           10|\n",
      "|     apartment|  for_rent|Heritage Woods is...|     NULL|    14756|  7966 sqft|       NULL|           11|\n",
      "|         other|     other| This home is loc...|     NULL|     NULL|       NULL|       NULL|           12|\n",
      "|     apartment|  for_rent|Bee Caves Vistas ...|     NULL|     8288|  4505 sqft|       NULL|           13|\n",
      "|     apartment|     other|                NULL|     NULL|     1298|   821 sqft|       NULL|           14|\n",
      "|     apartment|  for_rent|Our luxurious gar...|     NULL|    12233|  7001 sqft|       NULL|           15|\n",
      "|     apartment|     other|This 1124 square ...|     2015|     NULL|  1124 sqft|       NULL|           16|\n",
      "|     apartment|  for_rent|Prepare to enjoy ...|     NULL|     9795|  8481 sqft|       NULL|           17|\n",
      "+--------------+----------+--------------------+---------+---------+-----------+-----------+-------------+\n",
      "\n"
     ]
    }
   ],
   "source": [
    "df_description.show()"
   ]
  },
  {
   "cell_type": "code",
   "execution_count": 26,
   "id": "169e5b91-62a1-401a-b82c-2d3f3fef7d0c",
   "metadata": {},
   "outputs": [
    {
     "name": "stdout",
     "output_type": "stream",
     "text": [
      "+---------+--------+---------+----------+----------+--------------+---------+\n",
      "|bathrooms|bedrooms|hasGarage|hasCooling|hasHeating|hasPrivatePool|utilityId|\n",
      "+---------+--------+---------+----------+----------+--------------+---------+\n",
      "|        2|       0|    false|     false|     false|         false|        1|\n",
      "|        0|       0|    false|     false|     false|         false|        2|\n",
      "|        2|       2|    false|     false|     false|         false|        3|\n",
      "|        2|       3|    false|     false|     false|         false|        4|\n",
      "|        0|       9|    false|     false|     false|         false|        5|\n",
      "|       11|      11|    false|     false|     false|         false|        6|\n",
      "|        2|       2|    false|      true|      true|         false|        7|\n",
      "|        1|       1|    false|     false|     false|         false|        8|\n",
      "|        0|       3|    false|      true|     false|         false|        9|\n",
      "|        1|       2|    false|     false|     false|         false|       10|\n",
      "|       10|      12|    false|     false|     false|         false|       11|\n",
      "|       12|      15|    false|     false|     false|         false|       12|\n",
      "|       10|      10|    false|     false|     false|         false|       13|\n",
      "|        7|       7|    false|     false|     false|         false|       14|\n",
      "|        1|       1|    false|      true|      true|         false|       15|\n",
      "+---------+--------+---------+----------+----------+--------------+---------+\n",
      "\n"
     ]
    }
   ],
   "source": [
    "df_utility.show()"
   ]
  },
  {
   "cell_type": "code",
   "execution_count": 27,
   "id": "7d457404-b15b-42c4-9e5c-00af587c9c71",
   "metadata": {},
   "outputs": [
    {
     "name": "stdout",
     "output_type": "stream",
     "text": [
      "+----------+-------+-------+------+------------+\n",
      "|propertyId|taxYear|taxPaid| value|taxHistoryId|\n",
      "+----------+-------+-------+------+------------+\n",
      "|         1|   2023|  11392|456311|           1|\n",
      "|         1|   2022|  11671|377301|           2|\n",
      "|         1|   2021|   8401|316422|           3|\n",
      "|         1|   2020|   6786|316422|           4|\n",
      "|         1|   2019|   6950|330851|           5|\n",
      "|         1|   2018|   7324|205371|           6|\n",
      "|         1|   2017|   4580|205371|           7|\n",
      "|         1|   2016|   4715|227736|           8|\n",
      "|         1|   2014|   5060|190834|           9|\n",
      "|         1|   2014|   4889|205442|          10|\n",
      "|         1|   2013|   4616|190834|          11|\n",
      "|         1|   2012|   4546|190834|          12|\n",
      "|         1|   2011|   4421|190834|          13|\n",
      "|         1|   2010|   4210|190834|          14|\n",
      "|         1|   2009|   4157|185787|          15|\n",
      "|         1|   2008|   4000|184946|          16|\n",
      "|         7|   2023|  19367|946104|          17|\n",
      "|         7|   2022|  20678|636400|          18|\n",
      "|         7|   2021|  14900|534700|          19|\n",
      "|         7|   2020|  11468|534700|          20|\n",
      "+----------+-------+-------+------+------------+\n",
      "only showing top 20 rows\n",
      "\n"
     ]
    }
   ],
   "source": [
    "df_taxHistory.show()"
   ]
  },
  {
   "cell_type": "markdown",
   "id": "0ca16924-534a-40bd-b5c6-972e57b77ce7",
   "metadata": {},
   "source": [
    "## Save as Excel Files"
   ]
  },
  {
   "cell_type": "markdown",
   "id": "d5f147e0-c88c-405d-bf0b-b536ecbbfe12",
   "metadata": {},
   "source": [
    "While in real cases an insert or upsert transaction to the data warehouse should be operated, in this case study, it's more convenient to save as excel files."
   ]
  },
  {
   "cell_type": "code",
   "execution_count": 29,
   "id": "7184d7e6-fcde-47a8-941f-d54036ad3310",
   "metadata": {},
   "outputs": [],
   "source": [
    "with pd.ExcelWriter(OUTPUT_PATH) as writer:  \n",
    "    df_taxHistory.toPandas().to_excel(writer, sheet_name='factTaxHistory')\n",
    "    df_main.toPandas().to_excel(writer, sheet_name='dimProperty')\n",
    "    df_address.toPandas().to_excel(writer, sheet_name='dimAddress')\n",
    "    df_description.toPandas().to_excel(writer, sheet_name='dimDescription')\n",
    "    df_utility.toPandas().to_excel(writer, sheet_name='dimUtility')"
   ]
  },
  {
   "cell_type": "code",
   "execution_count": null,
   "id": "47f841eb-64e7-4f9a-9bf5-91b520370084",
   "metadata": {},
   "outputs": [],
   "source": []
  }
 ],
 "metadata": {
  "kernelspec": {
   "display_name": "spark_with_airflow",
   "language": "python",
   "name": "spark_with_airflow"
  },
  "language_info": {
   "codemirror_mode": {
    "name": "ipython",
    "version": 3
   },
   "file_extension": ".py",
   "mimetype": "text/x-python",
   "name": "python",
   "nbconvert_exporter": "python",
   "pygments_lexer": "ipython3",
   "version": "3.11.8"
  }
 },
 "nbformat": 4,
 "nbformat_minor": 5
}
